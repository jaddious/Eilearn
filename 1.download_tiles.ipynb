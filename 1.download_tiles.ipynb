{
 "cells": [
  {
   "cell_type": "code",
   "execution_count": 22,
   "metadata": {},
   "outputs": [],
   "source": [
    "from pygeotile.tile import Tile\n",
    "from pygeotile.point import Point\n",
    "\n",
    "\n",
    "zoom =  15\n",
    "x_min, y_min = 50.2184, 1.8977\n",
    "x_max, y_max = 51.1209, 3.7153\n",
    "layer = "
   ]
  },
  {
   "cell_type": "code",
   "execution_count": 23,
   "metadata": {},
   "outputs": [],
   "source": [
    "min_tile = Tile.for_latitude_longitude(latitude=y_min, longitude=x_min, zoom=zoom)\n",
    "max_tile = Tile.for_latitude_longitude(latitude=y_max, longitude=x_max, zoom=zoom)\n",
    "\n",
    "\n",
    "\n"
   ]
  },
  {
   "cell_type": "code",
   "execution_count": null,
   "metadata": {},
   "outputs": [],
   "source": [
    "# request"
   ]
  }
 ],
 "metadata": {
  "kernelspec": {
   "display_name": "venv",
   "language": "python",
   "name": "python3"
  },
  "language_info": {
   "codemirror_mode": {
    "name": "ipython",
    "version": 3
   },
   "file_extension": ".py",
   "mimetype": "text/x-python",
   "name": "python",
   "nbconvert_exporter": "python",
   "pygments_lexer": "ipython3",
   "version": "3.11.5"
  }
 },
 "nbformat": 4,
 "nbformat_minor": 2
}
